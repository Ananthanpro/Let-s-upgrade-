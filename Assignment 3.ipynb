{
 "cells": [
  {
   "cell_type": "markdown",
   "metadata": {},
   "source": [
    "# ASSIGNMENT 3"
   ]
  },
  {
   "cell_type": "markdown",
   "metadata": {},
   "source": [
    "# 1.PYTHON FUNCTION TO FIND MAX OF THREE NUMBER"
   ]
  },
  {
   "cell_type": "code",
   "execution_count": 2,
   "metadata": {},
   "outputs": [
    {
     "name": "stdout",
     "output_type": "stream",
     "text": [
      "888888\n"
     ]
    }
   ],
   "source": [
    "def max_of_two( x, y ):\n",
    "    if x > y:\n",
    "        return x\n",
    "    return y\n",
    "def max_of_three( x, y, z ):\n",
    "    return max_of_two( x, max_of_two( y, z ) )\n",
    "print(max_of_three(6666,77777,888888))"
   ]
  },
  {
   "cell_type": "markdown",
   "metadata": {},
   "source": [
    "# 2.CHECKS WHETHER A PASSED STRING IS PALINDROME OR NOT"
   ]
  },
  {
   "cell_type": "code",
   "execution_count": 12,
   "metadata": {},
   "outputs": [
    {
     "name": "stdout",
     "output_type": "stream",
     "text": [
      "True\n"
     ]
    }
   ],
   "source": [
    "def isPalindrome(string):\n",
    "    left_pos = 0\n",
    "    right_pos = len(string) - 1\n",
    "    \n",
    "    while right_pos >= left_pos:\n",
    "        if not string[left_pos] == string[right_pos]:\n",
    "            return False\n",
    "        left_pos += 1\n",
    "        right_pos -= 1\n",
    "    return True\n",
    "print(isPalindrome(\"tattarrattat\")) "
   ]
  },
  {
   "cell_type": "markdown",
   "metadata": {},
   "source": [
    "# 3.ACCEPTS A STRING AND CALCULATE THE NUMBER OF UPPERCASE AND LOWERCASE"
   ]
  },
  {
   "cell_type": "code",
   "execution_count": 8,
   "metadata": {},
   "outputs": [
    {
     "name": "stdout",
     "output_type": "stream",
     "text": [
      "Original String :  I Love My Country\n",
      "No. of Upper case characters :  4\n",
      "No. of Lower case Characters :  10\n"
     ]
    }
   ],
   "source": [
    "def string_test(s):\n",
    "    d={\"UPPER_CASE\":0, \"LOWER_CASE\":0}\n",
    "    for c in s:\n",
    "        if c.isupper():\n",
    "           d[\"UPPER_CASE\"]+=1\n",
    "        elif c.islower():\n",
    "           d[\"LOWER_CASE\"]+=1\n",
    "        else:\n",
    "           pass\n",
    "    print (\"Original String : \", s)\n",
    "    print (\"No. of Upper case characters : \", d[\"UPPER_CASE\"])\n",
    "    print (\"No. of Lower case Characters : \", d[\"LOWER_CASE\"])\n",
    "\n",
    "string_test(\"I Love My Country\")"
   ]
  },
  {
   "cell_type": "markdown",
   "metadata": {},
   "source": [
    "# 4. SUM ALL THE NUMBERS IN A LIST "
   ]
  },
  {
   "cell_type": "code",
   "execution_count": 11,
   "metadata": {},
   "outputs": [
    {
     "name": "stdout",
     "output_type": "stream",
     "text": [
      "135\n"
     ]
    }
   ],
   "source": [
    "def sum(numbers):\n",
    "    total = 0\n",
    "    for x in numbers:\n",
    "        total += x\n",
    "    return total\n",
    "print(sum((1,12,13,14,15,16,17,18,19,10)))"
   ]
  },
  {
   "cell_type": "markdown",
   "metadata": {},
   "source": [
    "# 5. TO MULTIPLY ALL THE NUMBERS IN A LIST"
   ]
  },
  {
   "cell_type": "code",
   "execution_count": 14,
   "metadata": {},
   "outputs": [
    {
     "name": "stdout",
     "output_type": "stream",
     "text": [
      "9106940160\n"
     ]
    }
   ],
   "source": [
    "def multiply(numbers):  \n",
    "    total = 1\n",
    "    for x in numbers:\n",
    "        total *= x  \n",
    "    return total  \n",
    "print(multiply((23,32,45,54,67,76)))"
   ]
  },
  {
   "cell_type": "markdown",
   "metadata": {},
   "source": [
    "# 6. TAKES A LIST AND RETURN A NEW LIST WITH UNIQUE ELEMENTS OF THE FIRST LIST"
   ]
  },
  {
   "cell_type": "code",
   "execution_count": 16,
   "metadata": {},
   "outputs": [
    {
     "name": "stdout",
     "output_type": "stream",
     "text": [
      "[4, 5, 6, 7, 8, 1, 2, 3, 66, 77, 88]\n"
     ]
    }
   ],
   "source": [
    "def unique_list(l):\n",
    "  x = []\n",
    "  for a in l:\n",
    "    if a not in x:\n",
    "      x.append(a)\n",
    "  return x\n",
    "\n",
    "print(unique_list([4,5,6,7,8,1,2,3,4,66,77,88,4,2,3])) "
   ]
  },
  {
   "cell_type": "code",
   "execution_count": null,
   "metadata": {},
   "outputs": [],
   "source": []
  }
 ],
 "metadata": {
  "kernelspec": {
   "display_name": "Python 3",
   "language": "python",
   "name": "python3"
  },
  "language_info": {
   "codemirror_mode": {
    "name": "ipython",
    "version": 3
   },
   "file_extension": ".py",
   "mimetype": "text/x-python",
   "name": "python",
   "nbconvert_exporter": "python",
   "pygments_lexer": "ipython3",
   "version": "3.8.5"
  }
 },
 "nbformat": 4,
 "nbformat_minor": 4
}
