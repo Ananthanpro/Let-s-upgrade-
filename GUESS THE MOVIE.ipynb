{
 "cells": [
  {
   "cell_type": "markdown",
   "metadata": {},
   "source": [
    "# 2. PROJECT"
   ]
  },
  {
   "cell_type": "markdown",
   "metadata": {},
   "source": [
    "#  GUESS THE MOVIE"
   ]
  },
  {
   "cell_type": "code",
   "execution_count": 21,
   "metadata": {},
   "outputs": [
    {
     "name": "stdout",
     "output_type": "stream",
     "text": [
      "What is your name: ANANTHAN  T\n",
      "Good Luck !  ANANTHAN  T\n",
      "Guess the characters\n",
      "_\n",
      "guess a character:3\n",
      "3\n",
      "You Win\n",
      "The word is:  3\n"
     ]
    }
   ],
   "source": [
    "import random\n",
    "\n",
    "name = input(\"What is your name: \")\n",
    "\n",
    "print(\"Good Luck ! \", name)\n",
    "\n",
    "words = [\"bombay\",\"roja\",\"psychology\",\"3\",\"mam\",\"maara\"]\n",
    "\n",
    "word = random.choice(words)\n",
    "\n",
    "\n",
    "print(\"Guess the characters\") \n",
    "\n",
    "guesses = \" \"\n",
    "\n",
    "\n",
    "turns = 1\n",
    "\n",
    "\n",
    "while turns > 0:\n",
    "\n",
    "    failed = 0\n",
    "\n",
    "    for char in word: \n",
    "\n",
    "        if char in guesses: \n",
    "            print(char)\n",
    "\n",
    "        else: \n",
    "            print(\"_\")\n",
    "            failed += 1\n",
    "            \n",
    "    if failed == 0:\n",
    "        \n",
    "        print(\"You Win\") \n",
    "\n",
    "        print(\"The word is: \", word) \n",
    "        break\n",
    "    guess = input(\"guess a character:\")\n",
    "    \n",
    "    guesses += guess \n",
    "    \n",
    "    if guess not in word:\n",
    "        turns -= 1\n",
    "        print(\"Wrong\")\n",
    "\n",
    "        print(\"You have\", + turns, 'more guesses')\n",
    "\n",
    "        if turns == 0:\n",
    "            print(\"You Loose\")\n"
   ]
  },
  {
   "cell_type": "code",
   "execution_count": null,
   "metadata": {},
   "outputs": [],
   "source": []
  }
 ],
 "metadata": {
  "kernelspec": {
   "display_name": "Python 3",
   "language": "python",
   "name": "python3"
  },
  "language_info": {
   "codemirror_mode": {
    "name": "ipython",
    "version": 3
   },
   "file_extension": ".py",
   "mimetype": "text/x-python",
   "name": "python",
   "nbconvert_exporter": "python",
   "pygments_lexer": "ipython3",
   "version": "3.8.5"
  }
 },
 "nbformat": 4,
 "nbformat_minor": 4
}
