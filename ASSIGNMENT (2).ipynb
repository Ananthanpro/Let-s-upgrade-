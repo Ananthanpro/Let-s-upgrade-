{
 "cells": [
  {
   "cell_type": "code",
   "execution_count": 6,
   "metadata": {},
   "outputs": [
    {
     "name": "stdout",
     "output_type": "stream",
     "text": [
      "your username: INDIA\n",
      "your password: OIUU\n",
      "Incorrect password, please try again:GUYG\n",
      "you have used your 1 maximum tries\n",
      "Incorrect password, please try again:FRYF\n",
      "you have used your 2 maximum tries\n",
      "Incorrect password, please try again:VNBB\n",
      "you have used your 3 maximum tries\n",
      "Incorrect password, please try again:FYTG\n",
      "you have used your 4 maximum tries\n",
      "Incorrect password, please try again:NHJV\n",
      "you have used your 5 maximum tries\n",
      "Your Account Is Blocked\n",
      "Try After 24 Hours\n"
     ]
    }
   ],
   "source": [
    "username = \"INDIA\"\n",
    "password = \"IND\"\n",
    "user1 = input(\"your username: \")\n",
    "pass1 = input(\"your password: \")\n",
    "tries = 0\n",
    "if username == user1 and password == pass1:\n",
    "    print(\"Login successful\")\n",
    "elif username != user1:\n",
    "    print(\"Username is invalid!\")\n",
    "elif password != pass1:\n",
    "    while tries <5:\n",
    "        pass1 = input(\"Incorrect password, please try again:\")\n",
    "        if password == pass1:\n",
    "            print(\"Login Successful\")\n",
    "            break\n",
    "        tries +=1\n",
    "        print(\"you have used your\",tries,\"maximum tries\")\n",
    "    print(\"Your Account Is Blocked\\nTry After 24 Hours\")    "
   ]
  },
  {
   "cell_type": "markdown",
   "metadata": {},
   "source": [
    "# QUESTION 1\n",
    "\n"
   ]
  },
  {
   "cell_type": "code",
   "execution_count": 9,
   "metadata": {},
   "outputs": [
    {
     "data": {
      "text/plain": [
       "0.26785714285714285"
      ]
     },
     "execution_count": 9,
     "metadata": {},
     "output_type": "execute_result"
    }
   ],
   "source": [
    "x=5\n",
    "y=(2*x+5)/(x**2+5*x+6)\n",
    "y"
   ]
  },
  {
   "cell_type": "code",
   "execution_count": 11,
   "metadata": {},
   "outputs": [
    {
     "data": {
      "text/plain": [
       "3.7333333333333334"
      ]
     },
     "execution_count": 11,
     "metadata": {},
     "output_type": "execute_result"
    }
   ],
   "source": [
    "x=5\n",
    "y=(x**2+5*x+6)/(2*x+5)\n",
    "y"
   ]
  },
  {
   "cell_type": "code",
   "execution_count": 13,
   "metadata": {},
   "outputs": [
    {
     "data": {
      "text/plain": [
       "98"
      ]
     },
     "execution_count": 13,
     "metadata": {},
     "output_type": "execute_result"
    }
   ],
   "source": [
    "x=5\n",
    "y=(2*x-3)*(x+9)\n",
    "y"
   ]
  },
  {
   "cell_type": "code",
   "execution_count": null,
   "metadata": {},
   "outputs": [],
   "source": []
  }
 ],
 "metadata": {
  "kernelspec": {
   "display_name": "Python 3",
   "language": "python",
   "name": "python3"
  },
  "language_info": {
   "codemirror_mode": {
    "name": "ipython",
    "version": 3
   },
   "file_extension": ".py",
   "mimetype": "text/x-python",
   "name": "python",
   "nbconvert_exporter": "python",
   "pygments_lexer": "ipython3",
   "version": "3.8.5"
  }
 },
 "nbformat": 4,
 "nbformat_minor": 4
}
