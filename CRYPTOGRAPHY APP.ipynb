{
 "cells": [
  {
   "cell_type": "markdown",
   "metadata": {},
   "source": [
    "# Assignment 4"
   ]
  },
  {
   "cell_type": "markdown",
   "metadata": {},
   "source": [
    "#  1.PROJECT "
   ]
  },
  {
   "cell_type": "markdown",
   "metadata": {},
   "source": [
    "# DEVELOP A CRYPTOGRAPHY APP IN PYTHON"
   ]
  },
  {
   "cell_type": "code",
   "execution_count": null,
   "metadata": {},
   "outputs": [],
   "source": [
    "#!pip install onetimepad"
   ]
  },
  {
   "cell_type": "code",
   "execution_count": 18,
   "metadata": {},
   "outputs": [
    {
     "name": "stdout",
     "output_type": "stream",
     "text": [
      "Working 2d2b353b242f332f4a31\n",
      "Working ANANTHAN.T\n"
     ]
    }
   ],
   "source": [
    "import onetimepad\n",
    "from tkinter import *\n",
    "root = Tk() \n",
    "root.title(\"CRYPTOGRAPHY APP\") \n",
    "\n",
    "\n",
    "def encryptMessage():\n",
    "    a = var.get() \n",
    "    ct = onetimepad.encrypt(a, \"letupgrade\")\n",
    "    print(\"Working\",ct)\n",
    "    \n",
    "    \n",
    "    e2.delete(0,END)\n",
    "    e2.insert(END, ct) \n",
    "\n",
    "def dycryptMessage():\n",
    "    a = var2.get()\n",
    "    ct = onetimepad.decrypt(a, 'letupgrade')\n",
    "    print(\"Working\",ct)\n",
    "    \n",
    "    \n",
    "    e4.delete(0,END)\n",
    "    e4.insert(END, ct)\n",
    "    \n",
    "    \n",
    "    \n",
    "l1 = Label(root,text=\"Plain Text\")  \n",
    "l1.grid(row=0,column=0)\n",
    "\n",
    "l3 = Label(root,text=\"Encrypted Text\")  \n",
    "l3.grid(row=0,column=2)\n",
    "\n",
    "var= StringVar()\n",
    "e1 = Entry(root,textvariable=var)\n",
    "e1.grid(row=0,column=1)\n",
    "\n",
    "var2= StringVar()\n",
    "e3 = Entry(root,textvariable=var2)\n",
    "e3.grid(row=0,column=3)\n",
    "\n",
    "l2 = Label(root,text=\"Encrypted Text\")  \n",
    "l2.grid(row=1,column=0)\n",
    "\n",
    "l4 = Label(root,text=\"Plain Text\")  \n",
    "l4.grid(row=1,column=2)\n",
    "e2 = Entry(root)\n",
    "e2.grid(row=1,column=1)\n",
    "\n",
    "e4 = Entry(root)\n",
    "e4.grid(row=1,column=3)\n",
    "\n",
    "b1 = Button(root,text=\"Encrption\",bg=\"blue\",fg=\"Red\",command=encryptMessage)\n",
    "b1.grid(row=2,column=1)\n",
    "\n",
    "b2 = Button(root,text=\"Dycrption\",bg=\"blue\",fg=\"Red\",command=dycryptMessage)\n",
    "b2.grid(row=2,column=3)\n",
    "\n",
    "\n",
    "root.mainloop() "
   ]
  }
 ],
 "metadata": {
  "kernelspec": {
   "display_name": "Python 3",
   "language": "python",
   "name": "python3"
  },
  "language_info": {
   "codemirror_mode": {
    "name": "ipython",
    "version": 3
   },
   "file_extension": ".py",
   "mimetype": "text/x-python",
   "name": "python",
   "nbconvert_exporter": "python",
   "pygments_lexer": "ipython3",
   "version": "3.8.5"
  }
 },
 "nbformat": 4,
 "nbformat_minor": 4
}
